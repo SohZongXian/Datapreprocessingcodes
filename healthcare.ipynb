{
 "cells": [
  {
   "cell_type": "code",
   "execution_count": null,
   "id": "25048940-6d31-491b-ac02-36206b65ea59",
   "metadata": {},
   "outputs": [],
   "source": [
    "import pandas as pd\n",
    "import seaborn as sns\n",
    "import numpy as np\n",
    "import csv\n",
    "import klib \n",
    "import matplotlib.pyplot as plt\n",
    "import datetime"
   ]
  },
  {
   "cell_type": "markdown",
   "id": "a4607052-376e-485b-9224-349b01688113",
   "metadata": {},
   "source": [
    "## Initial preprocessing"
   ]
  },
  {
   "cell_type": "code",
   "execution_count": null,
   "id": "06c275ff-c3de-4bb3-ac40-0df7587981de",
   "metadata": {},
   "outputs": [],
   "source": [
    "health_df_2019 = pd.read_csv('2019_healthcare.csv')\n",
    "health_df_2021 = pd.read_csv('2021_healthcare.csv')"
   ]
  },
  {
   "cell_type": "code",
   "execution_count": null,
   "id": "70a269e9-11ac-454d-b655-96153292d618",
   "metadata": {},
   "outputs": [],
   "source": [
    "health_df_2019.columns"
   ]
  },
  {
   "cell_type": "code",
   "execution_count": null,
   "id": "44f7bc1c-8dc5-4f36-8bc2-57e8900c2008",
   "metadata": {},
   "outputs": [],
   "source": [
    "health_df_2019"
   ]
  },
  {
   "cell_type": "code",
   "execution_count": null,
   "id": "975fa248-afa7-4959-b762-c208e052d7ef",
   "metadata": {},
   "outputs": [],
   "source": [
    "health_df_2021.columns"
   ]
  },
  {
   "cell_type": "code",
   "execution_count": null,
   "id": "a6e6fa71-6ffe-443c-aa03-22e4834bc3df",
   "metadata": {},
   "outputs": [],
   "source": [
    "health_df_2021"
   ]
  },
  {
   "cell_type": "code",
   "execution_count": null,
   "id": "2225aa09-3688-4005-a478-3af7f627b750",
   "metadata": {},
   "outputs": [],
   "source": [
    "for col in health_df_2021.columns:\n",
    "    if col not in health_df_2019.columns:\n",
    "        print(col)"
   ]
  },
  {
   "cell_type": "code",
   "execution_count": null,
   "id": "0cc8152c-6371-4c2e-958e-4c52dda19afa",
   "metadata": {},
   "outputs": [],
   "source": [
    "for col in health_df_2019.columns:\n",
    "    if col not in health_df_2021.columns:\n",
    "        print(col)"
   ]
  },
  {
   "cell_type": "code",
   "execution_count": null,
   "id": "65507117-1dc4-459e-883a-cf92229b194c",
   "metadata": {},
   "outputs": [],
   "source": [
    "health_df_2019.drop(['FUP30 Total', 'FUP30 Wound'], axis = 1, inplace = True)"
   ]
  },
  {
   "cell_type": "code",
   "execution_count": null,
   "id": "cc16fb83-de1c-4b2d-bfbe-fbc1a46cd827",
   "metadata": {},
   "outputs": [],
   "source": [
    "health_df_2021.drop(['FUP30 EQ5D-5L', 'FUP120 Date','FUP120 Rep By', 'FUP120 Res Status', 'FUP120 RIP Date'], axis = 1, inplace=True)"
   ]
  },
  {
   "cell_type": "code",
   "execution_count": null,
   "id": "2cae5af6-841e-438f-b5f4-bea837968399",
   "metadata": {},
   "outputs": [],
   "source": [
    "health_df_2019['year'] = '2019'\n",
    "health_df_2021['year'] = '2021'"
   ]
  },
  {
   "cell_type": "code",
   "execution_count": null,
   "id": "34e154ab-c9ef-4cff-ae97-4f885ddb716b",
   "metadata": {},
   "outputs": [],
   "source": [
    "frames = [health_df_2019, health_df_2021]\n",
    "full_data = pd.concat(frames)"
   ]
  },
  {
   "cell_type": "code",
   "execution_count": null,
   "id": "8fd419c5-f898-45cb-bd6d-c4476a715805",
   "metadata": {},
   "outputs": [],
   "source": [
    "full_data = klib.clean_column_names(full_data)"
   ]
  },
  {
   "cell_type": "code",
   "execution_count": null,
   "id": "b3dde368-ecc5-4890-9b05-5c5db87695f8",
   "metadata": {},
   "outputs": [],
   "source": [
    "full_data"
   ]
  },
  {
   "cell_type": "code",
   "execution_count": null,
   "id": "b6daaf73-8413-4cf6-ac47-9c4fad989399",
   "metadata": {},
   "outputs": [],
   "source": [
    "full_data.isnull().sum()"
   ]
  },
  {
   "cell_type": "markdown",
   "id": "e2453656-f3e3-4f40-8a24-f649db7b3f45",
   "metadata": {},
   "source": [
    "## Parse fup_30_re_adm's"
   ]
  },
  {
   "cell_type": "code",
   "execution_count": null,
   "id": "31a9338c-604a-498f-bb4a-cbd00f13ba81",
   "metadata": {},
   "outputs": [],
   "source": [
    "full_data['fup30_re_adm'].unique()"
   ]
  },
  {
   "cell_type": "code",
   "execution_count": null,
   "id": "dca4d454-3ef5-4eaa-8d57-60260a87bf3b",
   "metadata": {},
   "outputs": [],
   "source": [
    "full_data['fup30_re_adm_29'] = full_data['fup30_re_adm_29'].fillna('Null')\n",
    "full_data['fup30_re_adm'] = full_data['fup30_re_adm'].fillna(full_data['fup30_re_adm_29'])"
   ]
  },
  {
   "cell_type": "code",
   "execution_count": null,
   "id": "48321949-c9b7-468b-826a-292455887617",
   "metadata": {},
   "outputs": [],
   "source": [
    "full_data.drop(['fup30_re_adm_29'], inplace = True, axis = 1)"
   ]
  },
  {
   "cell_type": "markdown",
   "id": "13e50abd-c020-462a-bb64-3938d6b75004",
   "metadata": {},
   "source": [
    "## Impute missing values on other feature columns"
   ]
  },
  {
   "cell_type": "markdown",
   "id": "202a5591-da97-462e-85de-e256a6a271d8",
   "metadata": {},
   "source": [
    "* pre_fx_indoor         \n",
    "* pre_fx_outdoor        \n",
    "* pre_fx_shopping \n",
    "* ger_date"
   ]
  },
  {
   "cell_type": "code",
   "execution_count": null,
   "id": "def8c543-6270-4ae4-895d-a1ac6d0f14a5",
   "metadata": {},
   "outputs": [],
   "source": [
    "full_data['pre_fx_shopping'] = full_data['pre_fx_shopping'].fillna('Null')\n",
    "full_data['pre_fx_outdoor'] = full_data['pre_fx_outdoor'].fillna('Null')\n",
    "full_data['pre_fx_indoor'] = full_data['pre_fx_indoor'].fillna('Null')"
   ]
  },
  {
   "cell_type": "code",
   "execution_count": null,
   "id": "6ff3c5ec-8d50-4ca6-9bdf-9e64a898ba2d",
   "metadata": {},
   "outputs": [],
   "source": [
    "percentage_of_non_missing_dates = (full_data['ger_date'].notnull().sum())/full_data['ger_date'].isnull().sum() * 100\n",
    "print('Number of non missing dates = {} %'.format(round(percentage_of_non_missing_dates,2)))"
   ]
  },
  {
   "cell_type": "markdown",
   "id": "b0cf8bff-4374-49a1-b9ab-bd02899cfb95",
   "metadata": {
    "tags": []
   },
   "source": [
    "#### Since number of non missing dates are too high, this column has no significant impact on the target variable, hence dropped"
   ]
  },
  {
   "cell_type": "code",
   "execution_count": null,
   "id": "7d2f926f-aacd-4249-af4b-172f92ad3893",
   "metadata": {},
   "outputs": [],
   "source": [
    "full_data.drop(['ger_date'], axis = 1, inplace= True)"
   ]
  },
  {
   "cell_type": "markdown",
   "id": "431bd2b4-a99c-4010-98eb-71de96f9c4bf",
   "metadata": {},
   "source": [
    "* asa_grade            \n",
    "* surg_delay           \n",
    "* surg_delay_other    "
   ]
  },
  {
   "cell_type": "code",
   "execution_count": null,
   "id": "d4a0e942-0f08-4783-bc50-b358bf46b7d4",
   "metadata": {},
   "outputs": [],
   "source": [
    "full_data['asa_grade'].dtypes"
   ]
  },
  {
   "cell_type": "code",
   "execution_count": null,
   "id": "ccb488f3-1f42-46c4-8acf-b0918d81ef89",
   "metadata": {},
   "outputs": [],
   "source": [
    "full_data['asa_grade'] = pd.Categorical(full_data.asa_grade)\n",
    "full_data['asa_grade'] = full_data['asa_grade'].fillna(full_data['asa_grade'].mode().iloc[0])"
   ]
  },
  {
   "cell_type": "code",
   "execution_count": null,
   "id": "1f0bbb50-16bb-4ae2-85d3-1bff67e11c0d",
   "metadata": {},
   "outputs": [],
   "source": [
    "full_data['surg_delay'] = full_data['surg_delay'].fillna(full_data['surg_delay'].mode().iloc[0])"
   ]
  },
  {
   "cell_type": "code",
   "execution_count": null,
   "id": "86861051-faf7-402a-8bb7-11c5ad546796",
   "metadata": {},
   "outputs": [],
   "source": [
    "full_data['surg_delay_other'] = full_data['surg_delay_other'].fillna('Null')"
   ]
  },
  {
   "cell_type": "markdown",
   "id": "038896e1-4eaa-4859-8fd2-05b01d61bcae",
   "metadata": {},
   "source": [
    "* re_op_30             \n",
    "* operation_2   \n",
    "* bone_med_change     "
   ]
  },
  {
   "cell_type": "code",
   "execution_count": null,
   "id": "0125b6c8-7ad0-4bf5-86ee-eb2161d6bb78",
   "metadata": {},
   "outputs": [],
   "source": [
    "full_data['re_op_30'] = full_data['re_op_30'].fillna('None')"
   ]
  },
  {
   "cell_type": "code",
   "execution_count": null,
   "id": "e34f2709-0e49-49fe-939d-dd6513ddfae1",
   "metadata": {},
   "outputs": [],
   "source": [
    "percentage_of_non_missing_op2 = (full_data['operation_2'].notnull().sum())/full_data['operation_2'].isnull().sum() * 100\n",
    "print('Number of non missing operation_2 = {} %'.format(round(percentage_of_non_missing_op2,2)))"
   ]
  },
  {
   "cell_type": "markdown",
   "id": "683a52d9-023f-43cb-821f-2242cbdd36d4",
   "metadata": {},
   "source": [
    "### Since number of non missing op2 are too high, this column has no significant impact on the target variable, hence dropped"
   ]
  },
  {
   "cell_type": "code",
   "execution_count": null,
   "id": "1034fa18-c04d-43f8-bfc0-68991f5e9b0e",
   "metadata": {},
   "outputs": [],
   "source": [
    "full_data.drop(['operation_2'], axis = 1, inplace= True)"
   ]
  },
  {
   "cell_type": "code",
   "execution_count": null,
   "id": "424c2dc1-28be-4096-adad-07dd8818f598",
   "metadata": {},
   "outputs": [],
   "source": [
    "full_data['bone_med_change'] = full_data['bone_med_change'].fillna('None')"
   ]
  },
  {
   "cell_type": "markdown",
   "id": "561603de-21bb-40d6-8b65-1ad7cf3086cc",
   "metadata": {},
   "source": [
    "* fup30_date     \n",
    "* fup30_res_status    \n",
    "* fup30_rip_date      "
   ]
  },
  {
   "cell_type": "markdown",
   "id": "20610d54-0a4c-41e5-ad38-c0a774bca11b",
   "metadata": {},
   "source": [
    "### fup date not significance, as even when there is no date, the followup still happens"
   ]
  },
  {
   "cell_type": "code",
   "execution_count": null,
   "id": "29d38db0-7fe2-44d6-9bda-30a1f059fb99",
   "metadata": {},
   "outputs": [],
   "source": [
    "full_data.drop(['fup30_date'], axis = 1, inplace= True)"
   ]
  },
  {
   "cell_type": "code",
   "execution_count": null,
   "id": "a86ba590-2ad0-4e27-b0f3-3acda71a0d0f",
   "metadata": {},
   "outputs": [],
   "source": [
    "full_data['fup30_res_status'] = full_data['fup30_res_status'].fillna('Unknown')"
   ]
  },
  {
   "cell_type": "code",
   "execution_count": null,
   "id": "0dae7c85-a15a-446c-a14b-d242c47bfe3e",
   "metadata": {},
   "outputs": [],
   "source": [
    "full_data['fup30_rip_date'] = full_data['fup30_rip_date'].fillna('Null')"
   ]
  },
  {
   "cell_type": "markdown",
   "id": "aa8e948a-bd87-45f4-ab41-3855aca8ef09",
   "metadata": {},
   "source": [
    "## Replace rip date with is_rip (0 means not dead, 1 means dead)"
   ]
  },
  {
   "cell_type": "code",
   "execution_count": null,
   "id": "08b0e047-2fbc-47f1-b32b-36d5741944dd",
   "metadata": {},
   "outputs": [],
   "source": [
    "fup_isRip = []\n",
    "for data in full_data['fup30_rip_date']:\n",
    "    if data == 'Null':\n",
    "        fup_isRip.append('0')\n",
    "    else:\n",
    "        fup_isRip.append('1')   \n",
    "    "
   ]
  },
  {
   "cell_type": "code",
   "execution_count": null,
   "id": "5a284e55-04d8-4bb7-8b83-b3931b48f7ba",
   "metadata": {},
   "outputs": [],
   "source": [
    "full_data['fup_isRip'] = fup_isRip"
   ]
  },
  {
   "cell_type": "code",
   "execution_count": null,
   "id": "9e9c323c-eb19-4d66-8f19-7ddfac6ec303",
   "metadata": {},
   "outputs": [],
   "source": [
    "full_data.drop(['fup30_rip_date'], axis = 1, inplace= True)"
   ]
  },
  {
   "cell_type": "markdown",
   "id": "791fabec-d5db-48b6-9cd1-20742fc005b8",
   "metadata": {},
   "source": [
    "* fup30_indoor        \n",
    "* fup30_outdoor       \n",
    "* fup30_shopping      "
   ]
  },
  {
   "cell_type": "code",
   "execution_count": null,
   "id": "ddead1e7-f933-4c22-8cec-9a6cce72d06f",
   "metadata": {},
   "outputs": [],
   "source": [
    "full_data['fup30_indoor'] = full_data['fup30_indoor'].fillna('Null')\n",
    "full_data['fup30_outdoor'] = full_data['fup30_outdoor'].fillna('Null')\n",
    "full_data['fup30_shopping'] = full_data['fup30_shopping'].fillna('Null')"
   ]
  },
  {
   "cell_type": "markdown",
   "id": "b5c98df7-be83-4015-bb85-fe1fe0b70cc2",
   "metadata": {},
   "source": [
    "* fup30_re_op        \n",
    "* fup30_bone_med "
   ]
  },
  {
   "cell_type": "code",
   "execution_count": null,
   "id": "6ec27598-4c45-4510-b6e1-6ede2eee5a10",
   "metadata": {},
   "outputs": [],
   "source": [
    "full_data['fup30_re_op'] = full_data['fup30_re_op'].fillna('None')"
   ]
  },
  {
   "cell_type": "markdown",
   "id": "3b528132-153b-4bb0-b6dc-0d3038d0f3fa",
   "metadata": {},
   "source": [
    "## Replace fup30_re_op with fup30_re_op_flag (0 means no reoperate, 1 means reoperate)"
   ]
  },
  {
   "cell_type": "code",
   "execution_count": null,
   "id": "91148347-b777-46f2-97a5-c764126d40d0",
   "metadata": {},
   "outputs": [],
   "source": [
    "fup30_re_op_flag = []\n",
    "for data in full_data['fup30_re_op']:\n",
    "    if data == 'None':\n",
    "        fup30_re_op_flag.append('0')\n",
    "    else:\n",
    "        fup30_re_op_flag.append('1')   "
   ]
  },
  {
   "cell_type": "code",
   "execution_count": null,
   "id": "fc4dd578-e26d-4bc3-83a7-ea0c9d3a7a35",
   "metadata": {},
   "outputs": [],
   "source": [
    "full_data['fup30_re_op_flag'] = fup30_re_op_flag"
   ]
  },
  {
   "cell_type": "code",
   "execution_count": null,
   "id": "f1bed1a2-9f1f-4570-8892-e3b8a7578286",
   "metadata": {},
   "outputs": [],
   "source": [
    "full_data.drop(['fup30_re_op'], axis = 1, inplace= True)"
   ]
  },
  {
   "cell_type": "code",
   "execution_count": null,
   "id": "2fe05602-32e1-4a38-8959-9f965d0fac39",
   "metadata": {},
   "outputs": [],
   "source": [
    "full_data['fup30_bone_med'].unique()"
   ]
  },
  {
   "cell_type": "code",
   "execution_count": null,
   "id": "e1abaf59-027d-4d25-8fa6-d955033daddd",
   "metadata": {},
   "outputs": [],
   "source": [
    "full_data['fup30_bone_med'] =  full_data['fup30_bone_med'].fillna('Unknown')"
   ]
  },
  {
   "cell_type": "markdown",
   "id": "90d6cbb7-05ad-4e73-a7b4-876bcd2e5618",
   "metadata": {},
   "source": [
    "## fup30_pain_as and fup30_pain parsing"
   ]
  },
  {
   "cell_type": "code",
   "execution_count": null,
   "id": "b5c8c497-b2e3-4e3f-95ed-6652ae513eaa",
   "metadata": {},
   "outputs": [],
   "source": [
    "full_data['fup30_pain_as'] = full_data['fup30_pain_as'].fillna('Null')"
   ]
  },
  {
   "cell_type": "code",
   "execution_count": null,
   "id": "2bd673eb-c304-441e-ac16-a0cbf4a2b9fd",
   "metadata": {},
   "outputs": [],
   "source": [
    "full_data['fup30_pain_as']"
   ]
  },
  {
   "cell_type": "code",
   "execution_count": null,
   "id": "17635f14-eaca-4c20-a97d-d3fc82ab359b",
   "metadata": {},
   "outputs": [],
   "source": [
    "full_data['fup30_pain_as'] = pd.Categorical(full_data.fup30_pain_as)"
   ]
  },
  {
   "cell_type": "code",
   "execution_count": null,
   "id": "2fea6ede-c8dc-41b2-beb5-7a1f5bcb8a18",
   "metadata": {},
   "outputs": [],
   "source": [
    "full_data['fup30_pain'].unique()"
   ]
  },
  {
   "cell_type": "code",
   "execution_count": null,
   "id": "ba774fe0-f5b3-4c5e-9172-6dcbe556a9e5",
   "metadata": {},
   "outputs": [],
   "source": [
    "full_data['fup30_pain_as'].unique()"
   ]
  },
  {
   "cell_type": "code",
   "execution_count": null,
   "id": "a5dc6936-9ca9-4e92-966a-12ef0652523e",
   "metadata": {},
   "outputs": [],
   "source": [
    "fup_pain_as_parsed = []\n",
    "for data in full_data['fup30_pain_as']:\n",
    "    if data == 'Null':\n",
    "        fup_pain_as_parsed.append('Null')\n",
    "    elif data == 'no pain':\n",
    "        fup_pain_as_parsed.append('1.0')\n",
    "    elif data == 'slight pain':\n",
    "        fup_pain_as_parsed.append('2.0')\n",
    "    elif data == 'moderate pain':\n",
    "        fup_pain_as_parsed.append('3.0')\n",
    "    elif data == 'severe pain':\n",
    "        fup_pain_as_parsed.append('4.0') "
   ]
  },
  {
   "cell_type": "code",
   "execution_count": null,
   "id": "c9e19c09-77d8-47e2-9add-e19a8d84ec66",
   "metadata": {},
   "outputs": [],
   "source": [
    "full_data['fup30_pain_as_parsed'] = fup_pain_as_parsed"
   ]
  },
  {
   "cell_type": "code",
   "execution_count": null,
   "id": "a48fed2e-c49b-4122-b394-0d518314d6c2",
   "metadata": {},
   "outputs": [],
   "source": [
    "full_data.drop(['fup30_pain_as'], axis = 1, inplace= True)"
   ]
  },
  {
   "cell_type": "code",
   "execution_count": null,
   "id": "66729ee5-5896-4cfd-bffe-cd3adebf31a1",
   "metadata": {},
   "outputs": [],
   "source": [
    "full_data['fup30_pain'] = full_data['fup30_pain'].fillna(full_data['fup30_pain_as_parsed'])"
   ]
  },
  {
   "cell_type": "code",
   "execution_count": null,
   "id": "8e182498-87d4-43eb-9a7b-9822b47a2c9d",
   "metadata": {},
   "outputs": [],
   "source": [
    "full_data['fup30_pain'] = pd.Categorical(full_data.fup30_pain)"
   ]
  },
  {
   "cell_type": "code",
   "execution_count": null,
   "id": "988b6d6e-a612-48b0-b22a-870247c3d4f0",
   "metadata": {},
   "outputs": [],
   "source": [
    "full_data['fup30_pain'].unique()"
   ]
  },
  {
   "cell_type": "code",
   "execution_count": null,
   "id": "7460256f-b7b2-41cb-b345-c5d261180c30",
   "metadata": {},
   "outputs": [],
   "source": [
    "full_data.isnull().sum()"
   ]
  },
  {
   "cell_type": "markdown",
   "id": "5bbd55b2-4429-430a-8bc3-1b96a1523631",
   "metadata": {},
   "source": [
    "## Parse ger_grade target variable to ger_grade_flag"
   ]
  },
  {
   "cell_type": "code",
   "execution_count": null,
   "id": "77bb4333-2578-4944-966d-aa7d995dba2d",
   "metadata": {},
   "outputs": [],
   "source": [
    "full_data['ger_grade'] = full_data['ger_grade'].fillna('None')"
   ]
  },
  {
   "cell_type": "code",
   "execution_count": null,
   "id": "c90d3e9d-8b9d-4452-869c-4a1363dd397e",
   "metadata": {},
   "outputs": [],
   "source": [
    "ger_grade_flag = []\n",
    "for data in full_data['ger_grade']:\n",
    "    if data == 'None':\n",
    "        ger_grade_flag.append('0')\n",
    "    else:\n",
    "        ger_grade_flag.append('1')\n",
    "        "
   ]
  },
  {
   "cell_type": "code",
   "execution_count": null,
   "id": "753dede1-3312-4995-8a67-3abfbbf7f8cf",
   "metadata": {},
   "outputs": [],
   "source": [
    "full_data['ger_grade_flag'] = ger_grade_flag"
   ]
  },
  {
   "cell_type": "markdown",
   "id": "a4fb7371-a635-4d26-9908-57ba3f29c1ca",
   "metadata": {},
   "source": [
    "## Save preprocessed columns as csv"
   ]
  },
  {
   "cell_type": "code",
   "execution_count": null,
   "id": "375e70a7-5114-4d69-b759-2282145d01e1",
   "metadata": {},
   "outputs": [],
   "source": [
    "full_data.to_csv('total_healthcare_parsed.csv' ,sep=',')"
   ]
  }
 ],
 "metadata": {
  "kernelspec": {
   "display_name": "Python 3 (ipykernel)",
   "language": "python",
   "name": "python3"
  },
  "language_info": {
   "codemirror_mode": {
    "name": "ipython",
    "version": 3
   },
   "file_extension": ".py",
   "mimetype": "text/x-python",
   "name": "python",
   "nbconvert_exporter": "python",
   "pygments_lexer": "ipython3",
   "version": "3.8.12"
  }
 },
 "nbformat": 4,
 "nbformat_minor": 5
}
